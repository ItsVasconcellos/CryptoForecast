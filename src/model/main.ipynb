{
 "cells": [
  {
   "cell_type": "markdown",
   "metadata": {},
   "source": [
    "# Importação das Bibliotecas \n",
    "Realizando o processo de import para todas as bibliotecas necessárias para rodar o notebook "
   ]
  },
  {
   "cell_type": "code",
   "execution_count": 29,
   "metadata": {},
   "outputs": [],
   "source": [
    "import yfinance as yf\n",
    "import pandas as pd\n",
    "import matplotlib.pyplot as plt\n",
    "import numpy as np"
   ]
  },
  {
   "cell_type": "markdown",
   "metadata": {},
   "source": [
    "## Importando a database\n",
    "\n",
    "Aqui, eu importei a database utilizando da biblioteca YFinance, que fornece algumas informações sobre a operação do bitcoin. Além disso, eu comecei a ver a base de dados que estava lidando, compreendendo sua formatação e como os dados estavam organizados."
   ]
  },
  {
   "cell_type": "code",
   "execution_count": 30,
   "metadata": {},
   "outputs": [
    {
     "name": "stderr",
     "output_type": "stream",
     "text": [
      "[*********************100%***********************]  1 of 1 completed\n"
     ]
    },
    {
     "data": {
      "text/html": [
       "<div>\n",
       "<style scoped>\n",
       "    .dataframe tbody tr th:only-of-type {\n",
       "        vertical-align: middle;\n",
       "    }\n",
       "\n",
       "    .dataframe tbody tr th {\n",
       "        vertical-align: top;\n",
       "    }\n",
       "\n",
       "    .dataframe thead th {\n",
       "        text-align: right;\n",
       "    }\n",
       "</style>\n",
       "<table border=\"1\" class=\"dataframe\">\n",
       "  <thead>\n",
       "    <tr style=\"text-align: right;\">\n",
       "      <th></th>\n",
       "      <th>Open</th>\n",
       "      <th>High</th>\n",
       "      <th>Low</th>\n",
       "      <th>Close</th>\n",
       "      <th>Adj Close</th>\n",
       "      <th>Volume</th>\n",
       "    </tr>\n",
       "    <tr>\n",
       "      <th>Date</th>\n",
       "      <th></th>\n",
       "      <th></th>\n",
       "      <th></th>\n",
       "      <th></th>\n",
       "      <th></th>\n",
       "      <th></th>\n",
       "    </tr>\n",
       "  </thead>\n",
       "  <tbody>\n",
       "    <tr>\n",
       "      <th>2019-09-29</th>\n",
       "      <td>8246.037109</td>\n",
       "      <td>8261.707031</td>\n",
       "      <td>7990.497070</td>\n",
       "      <td>8104.185547</td>\n",
       "      <td>8104.185547</td>\n",
       "      <td>13034629109</td>\n",
       "    </tr>\n",
       "    <tr>\n",
       "      <th>2019-09-30</th>\n",
       "      <td>8104.226562</td>\n",
       "      <td>8314.231445</td>\n",
       "      <td>7830.758789</td>\n",
       "      <td>8293.868164</td>\n",
       "      <td>8293.868164</td>\n",
       "      <td>17115474183</td>\n",
       "    </tr>\n",
       "    <tr>\n",
       "      <th>2019-10-01</th>\n",
       "      <td>8299.720703</td>\n",
       "      <td>8497.692383</td>\n",
       "      <td>8232.679688</td>\n",
       "      <td>8343.276367</td>\n",
       "      <td>8343.276367</td>\n",
       "      <td>15305343413</td>\n",
       "    </tr>\n",
       "    <tr>\n",
       "      <th>2019-10-02</th>\n",
       "      <td>8344.212891</td>\n",
       "      <td>8393.041992</td>\n",
       "      <td>8227.695312</td>\n",
       "      <td>8393.041992</td>\n",
       "      <td>8393.041992</td>\n",
       "      <td>13125712443</td>\n",
       "    </tr>\n",
       "    <tr>\n",
       "      <th>2019-10-03</th>\n",
       "      <td>8390.774414</td>\n",
       "      <td>8414.227539</td>\n",
       "      <td>8146.437012</td>\n",
       "      <td>8259.992188</td>\n",
       "      <td>8259.992188</td>\n",
       "      <td>13668823409</td>\n",
       "    </tr>\n",
       "  </tbody>\n",
       "</table>\n",
       "</div>"
      ],
      "text/plain": [
       "                   Open         High          Low        Close    Adj Close  \\\n",
       "Date                                                                          \n",
       "2019-09-29  8246.037109  8261.707031  7990.497070  8104.185547  8104.185547   \n",
       "2019-09-30  8104.226562  8314.231445  7830.758789  8293.868164  8293.868164   \n",
       "2019-10-01  8299.720703  8497.692383  8232.679688  8343.276367  8343.276367   \n",
       "2019-10-02  8344.212891  8393.041992  8227.695312  8393.041992  8393.041992   \n",
       "2019-10-03  8390.774414  8414.227539  8146.437012  8259.992188  8259.992188   \n",
       "\n",
       "                 Volume  \n",
       "Date                     \n",
       "2019-09-29  13034629109  \n",
       "2019-09-30  17115474183  \n",
       "2019-10-01  15305343413  \n",
       "2019-10-02  13125712443  \n",
       "2019-10-03  13668823409  "
      ]
     },
     "execution_count": 30,
     "metadata": {},
     "output_type": "execute_result"
    }
   ],
   "source": [
    "# get historical market data\n",
    "df_bitcoin = yf.download(tickers=\"BTC-USD\", period=\"5y\", interval=\"1d\")\n",
    "\n",
    "df_bitcoin.head()"
   ]
  },
  {
   "cell_type": "code",
   "execution_count": 31,
   "metadata": {},
   "outputs": [
    {
     "name": "stdout",
     "output_type": "stream",
     "text": [
      "<class 'pandas.core.frame.DataFrame'>\n",
      "DatetimeIndex: 1828 entries, 2019-09-29 to 2024-09-29\n",
      "Data columns (total 6 columns):\n",
      " #   Column     Non-Null Count  Dtype  \n",
      "---  ------     --------------  -----  \n",
      " 0   Open       1828 non-null   float64\n",
      " 1   High       1828 non-null   float64\n",
      " 2   Low        1828 non-null   float64\n",
      " 3   Close      1828 non-null   float64\n",
      " 4   Adj Close  1828 non-null   float64\n",
      " 5   Volume     1828 non-null   int64  \n",
      "dtypes: float64(5), int64(1)\n",
      "memory usage: 100.0 KB\n"
     ]
    }
   ],
   "source": [
    "df_bitcoin.info()"
   ]
  },
  {
   "cell_type": "markdown",
   "metadata": {},
   "source": [
    "Aqui, verifiquei se havia algum dado nulo, para não criar novas features e deixar linhas vazias."
   ]
  },
  {
   "cell_type": "code",
   "execution_count": 32,
   "metadata": {},
   "outputs": [
    {
     "name": "stdout",
     "output_type": "stream",
     "text": [
      "Contagem de nulls por coluna: \n",
      "\n",
      "Open:0\n",
      "High:0\n",
      "Low:0\n",
      "Close:0\n",
      "Adj Close:0\n",
      "Volume:0\n"
     ]
    }
   ],
   "source": [
    "colunas = df_bitcoin.columns\n",
    "print(\"Contagem de nulls por coluna: \\n\")\n",
    "for coluna in colunas:\n",
    "    print(f'{coluna}:{df_bitcoin[coluna].isna().sum()}')"
   ]
  },
  {
   "cell_type": "markdown",
   "metadata": {},
   "source": [
    "## Feature Engineering\n",
    "\n",
    "Para conseguir criar um modelo mais eficiente, pensei em algumas features que poderiam ser úteis ao modelo. Assim, implementei features como a variação percentual e amplitude do dia."
   ]
  },
  {
   "cell_type": "code",
   "execution_count": 33,
   "metadata": {},
   "outputs": [
    {
     "data": {
      "text/html": [
       "<div>\n",
       "<style scoped>\n",
       "    .dataframe tbody tr th:only-of-type {\n",
       "        vertical-align: middle;\n",
       "    }\n",
       "\n",
       "    .dataframe tbody tr th {\n",
       "        vertical-align: top;\n",
       "    }\n",
       "\n",
       "    .dataframe thead th {\n",
       "        text-align: right;\n",
       "    }\n",
       "</style>\n",
       "<table border=\"1\" class=\"dataframe\">\n",
       "  <thead>\n",
       "    <tr style=\"text-align: right;\">\n",
       "      <th></th>\n",
       "      <th>Open</th>\n",
       "      <th>High</th>\n",
       "      <th>Low</th>\n",
       "      <th>Close</th>\n",
       "      <th>Adj Close</th>\n",
       "      <th>Volume</th>\n",
       "    </tr>\n",
       "    <tr>\n",
       "      <th>Date</th>\n",
       "      <th></th>\n",
       "      <th></th>\n",
       "      <th></th>\n",
       "      <th></th>\n",
       "      <th></th>\n",
       "      <th></th>\n",
       "    </tr>\n",
       "  </thead>\n",
       "  <tbody>\n",
       "    <tr>\n",
       "      <th>2019-09-29</th>\n",
       "      <td>8246.04</td>\n",
       "      <td>8261.71</td>\n",
       "      <td>7990.50</td>\n",
       "      <td>8104.19</td>\n",
       "      <td>8104.19</td>\n",
       "      <td>13034629109</td>\n",
       "    </tr>\n",
       "    <tr>\n",
       "      <th>2019-09-30</th>\n",
       "      <td>8104.23</td>\n",
       "      <td>8314.23</td>\n",
       "      <td>7830.76</td>\n",
       "      <td>8293.87</td>\n",
       "      <td>8293.87</td>\n",
       "      <td>17115474183</td>\n",
       "    </tr>\n",
       "    <tr>\n",
       "      <th>2019-10-01</th>\n",
       "      <td>8299.72</td>\n",
       "      <td>8497.69</td>\n",
       "      <td>8232.68</td>\n",
       "      <td>8343.28</td>\n",
       "      <td>8343.28</td>\n",
       "      <td>15305343413</td>\n",
       "    </tr>\n",
       "    <tr>\n",
       "      <th>2019-10-02</th>\n",
       "      <td>8344.21</td>\n",
       "      <td>8393.04</td>\n",
       "      <td>8227.70</td>\n",
       "      <td>8393.04</td>\n",
       "      <td>8393.04</td>\n",
       "      <td>13125712443</td>\n",
       "    </tr>\n",
       "    <tr>\n",
       "      <th>2019-10-03</th>\n",
       "      <td>8390.77</td>\n",
       "      <td>8414.23</td>\n",
       "      <td>8146.44</td>\n",
       "      <td>8259.99</td>\n",
       "      <td>8259.99</td>\n",
       "      <td>13668823409</td>\n",
       "    </tr>\n",
       "  </tbody>\n",
       "</table>\n",
       "</div>"
      ],
      "text/plain": [
       "               Open     High      Low    Close  Adj Close       Volume\n",
       "Date                                                                  \n",
       "2019-09-29  8246.04  8261.71  7990.50  8104.19    8104.19  13034629109\n",
       "2019-09-30  8104.23  8314.23  7830.76  8293.87    8293.87  17115474183\n",
       "2019-10-01  8299.72  8497.69  8232.68  8343.28    8343.28  15305343413\n",
       "2019-10-02  8344.21  8393.04  8227.70  8393.04    8393.04  13125712443\n",
       "2019-10-03  8390.77  8414.23  8146.44  8259.99    8259.99  13668823409"
      ]
     },
     "execution_count": 33,
     "metadata": {},
     "output_type": "execute_result"
    }
   ],
   "source": [
    "for coluna in colunas:\n",
    "    df_bitcoin[coluna] = df_bitcoin[coluna].apply(lambda x: round(x, 2))\n",
    "df_bitcoin.head()"
   ]
  },
  {
   "cell_type": "code",
   "execution_count": 34,
   "metadata": {},
   "outputs": [
    {
     "data": {
      "text/html": [
       "<div>\n",
       "<style scoped>\n",
       "    .dataframe tbody tr th:only-of-type {\n",
       "        vertical-align: middle;\n",
       "    }\n",
       "\n",
       "    .dataframe tbody tr th {\n",
       "        vertical-align: top;\n",
       "    }\n",
       "\n",
       "    .dataframe thead th {\n",
       "        text-align: right;\n",
       "    }\n",
       "</style>\n",
       "<table border=\"1\" class=\"dataframe\">\n",
       "  <thead>\n",
       "    <tr style=\"text-align: right;\">\n",
       "      <th></th>\n",
       "      <th>Open</th>\n",
       "      <th>High</th>\n",
       "      <th>Low</th>\n",
       "      <th>Close</th>\n",
       "      <th>Adj Close</th>\n",
       "      <th>Volume</th>\n",
       "      <th>Percentage_Variation</th>\n",
       "    </tr>\n",
       "    <tr>\n",
       "      <th>Date</th>\n",
       "      <th></th>\n",
       "      <th></th>\n",
       "      <th></th>\n",
       "      <th></th>\n",
       "      <th></th>\n",
       "      <th></th>\n",
       "      <th></th>\n",
       "    </tr>\n",
       "  </thead>\n",
       "  <tbody>\n",
       "    <tr>\n",
       "      <th>2019-09-29</th>\n",
       "      <td>8246.04</td>\n",
       "      <td>8261.71</td>\n",
       "      <td>7990.50</td>\n",
       "      <td>8104.19</td>\n",
       "      <td>8104.19</td>\n",
       "      <td>13034629109</td>\n",
       "      <td>-1.720220</td>\n",
       "    </tr>\n",
       "    <tr>\n",
       "      <th>2019-09-30</th>\n",
       "      <td>8104.23</td>\n",
       "      <td>8314.23</td>\n",
       "      <td>7830.76</td>\n",
       "      <td>8293.87</td>\n",
       "      <td>8293.87</td>\n",
       "      <td>17115474183</td>\n",
       "      <td>2.340013</td>\n",
       "    </tr>\n",
       "    <tr>\n",
       "      <th>2019-10-01</th>\n",
       "      <td>8299.72</td>\n",
       "      <td>8497.69</td>\n",
       "      <td>8232.68</td>\n",
       "      <td>8343.28</td>\n",
       "      <td>8343.28</td>\n",
       "      <td>15305343413</td>\n",
       "      <td>0.524837</td>\n",
       "    </tr>\n",
       "    <tr>\n",
       "      <th>2019-10-02</th>\n",
       "      <td>8344.21</td>\n",
       "      <td>8393.04</td>\n",
       "      <td>8227.70</td>\n",
       "      <td>8393.04</td>\n",
       "      <td>8393.04</td>\n",
       "      <td>13125712443</td>\n",
       "      <td>0.585196</td>\n",
       "    </tr>\n",
       "    <tr>\n",
       "      <th>2019-10-03</th>\n",
       "      <td>8390.77</td>\n",
       "      <td>8414.23</td>\n",
       "      <td>8146.44</td>\n",
       "      <td>8259.99</td>\n",
       "      <td>8259.99</td>\n",
       "      <td>13668823409</td>\n",
       "      <td>-1.558617</td>\n",
       "    </tr>\n",
       "  </tbody>\n",
       "</table>\n",
       "</div>"
      ],
      "text/plain": [
       "               Open     High      Low    Close  Adj Close       Volume  \\\n",
       "Date                                                                     \n",
       "2019-09-29  8246.04  8261.71  7990.50  8104.19    8104.19  13034629109   \n",
       "2019-09-30  8104.23  8314.23  7830.76  8293.87    8293.87  17115474183   \n",
       "2019-10-01  8299.72  8497.69  8232.68  8343.28    8343.28  15305343413   \n",
       "2019-10-02  8344.21  8393.04  8227.70  8393.04    8393.04  13125712443   \n",
       "2019-10-03  8390.77  8414.23  8146.44  8259.99    8259.99  13668823409   \n",
       "\n",
       "            Percentage_Variation  \n",
       "Date                              \n",
       "2019-09-29             -1.720220  \n",
       "2019-09-30              2.340013  \n",
       "2019-10-01              0.524837  \n",
       "2019-10-02              0.585196  \n",
       "2019-10-03             -1.558617  "
      ]
     },
     "execution_count": 34,
     "metadata": {},
     "output_type": "execute_result"
    }
   ],
   "source": [
    "df_bitcoin[\"Percentage_Variation\"] = 100*(df_bitcoin[\"Close\"] - df_bitcoin[\"Open\"])/df_bitcoin[\"Open\"] \n",
    "df_bitcoin.head()"
   ]
  },
  {
   "cell_type": "code",
   "execution_count": 35,
   "metadata": {},
   "outputs": [
    {
     "data": {
      "text/html": [
       "<div>\n",
       "<style scoped>\n",
       "    .dataframe tbody tr th:only-of-type {\n",
       "        vertical-align: middle;\n",
       "    }\n",
       "\n",
       "    .dataframe tbody tr th {\n",
       "        vertical-align: top;\n",
       "    }\n",
       "\n",
       "    .dataframe thead th {\n",
       "        text-align: right;\n",
       "    }\n",
       "</style>\n",
       "<table border=\"1\" class=\"dataframe\">\n",
       "  <thead>\n",
       "    <tr style=\"text-align: right;\">\n",
       "      <th></th>\n",
       "      <th>Open</th>\n",
       "      <th>High</th>\n",
       "      <th>Low</th>\n",
       "      <th>Close</th>\n",
       "      <th>Adj Close</th>\n",
       "      <th>Volume</th>\n",
       "      <th>Percentage_Variation</th>\n",
       "      <th>Amplitude</th>\n",
       "    </tr>\n",
       "    <tr>\n",
       "      <th>Date</th>\n",
       "      <th></th>\n",
       "      <th></th>\n",
       "      <th></th>\n",
       "      <th></th>\n",
       "      <th></th>\n",
       "      <th></th>\n",
       "      <th></th>\n",
       "      <th></th>\n",
       "    </tr>\n",
       "  </thead>\n",
       "  <tbody>\n",
       "    <tr>\n",
       "      <th>2019-09-29</th>\n",
       "      <td>8246.04</td>\n",
       "      <td>8261.71</td>\n",
       "      <td>7990.50</td>\n",
       "      <td>8104.19</td>\n",
       "      <td>8104.19</td>\n",
       "      <td>13034629109</td>\n",
       "      <td>-1.720220</td>\n",
       "      <td>271.21</td>\n",
       "    </tr>\n",
       "    <tr>\n",
       "      <th>2019-09-30</th>\n",
       "      <td>8104.23</td>\n",
       "      <td>8314.23</td>\n",
       "      <td>7830.76</td>\n",
       "      <td>8293.87</td>\n",
       "      <td>8293.87</td>\n",
       "      <td>17115474183</td>\n",
       "      <td>2.340013</td>\n",
       "      <td>483.47</td>\n",
       "    </tr>\n",
       "    <tr>\n",
       "      <th>2019-10-01</th>\n",
       "      <td>8299.72</td>\n",
       "      <td>8497.69</td>\n",
       "      <td>8232.68</td>\n",
       "      <td>8343.28</td>\n",
       "      <td>8343.28</td>\n",
       "      <td>15305343413</td>\n",
       "      <td>0.524837</td>\n",
       "      <td>265.01</td>\n",
       "    </tr>\n",
       "    <tr>\n",
       "      <th>2019-10-02</th>\n",
       "      <td>8344.21</td>\n",
       "      <td>8393.04</td>\n",
       "      <td>8227.70</td>\n",
       "      <td>8393.04</td>\n",
       "      <td>8393.04</td>\n",
       "      <td>13125712443</td>\n",
       "      <td>0.585196</td>\n",
       "      <td>165.34</td>\n",
       "    </tr>\n",
       "    <tr>\n",
       "      <th>2019-10-03</th>\n",
       "      <td>8390.77</td>\n",
       "      <td>8414.23</td>\n",
       "      <td>8146.44</td>\n",
       "      <td>8259.99</td>\n",
       "      <td>8259.99</td>\n",
       "      <td>13668823409</td>\n",
       "      <td>-1.558617</td>\n",
       "      <td>267.79</td>\n",
       "    </tr>\n",
       "  </tbody>\n",
       "</table>\n",
       "</div>"
      ],
      "text/plain": [
       "               Open     High      Low    Close  Adj Close       Volume  \\\n",
       "Date                                                                     \n",
       "2019-09-29  8246.04  8261.71  7990.50  8104.19    8104.19  13034629109   \n",
       "2019-09-30  8104.23  8314.23  7830.76  8293.87    8293.87  17115474183   \n",
       "2019-10-01  8299.72  8497.69  8232.68  8343.28    8343.28  15305343413   \n",
       "2019-10-02  8344.21  8393.04  8227.70  8393.04    8393.04  13125712443   \n",
       "2019-10-03  8390.77  8414.23  8146.44  8259.99    8259.99  13668823409   \n",
       "\n",
       "            Percentage_Variation  Amplitude  \n",
       "Date                                         \n",
       "2019-09-29             -1.720220     271.21  \n",
       "2019-09-30              2.340013     483.47  \n",
       "2019-10-01              0.524837     265.01  \n",
       "2019-10-02              0.585196     165.34  \n",
       "2019-10-03             -1.558617     267.79  "
      ]
     },
     "execution_count": 35,
     "metadata": {},
     "output_type": "execute_result"
    }
   ],
   "source": [
    "df_bitcoin[\"Amplitude\"] = df_bitcoin[\"High\"] - df_bitcoin[\"Low\"]\n",
    "df_bitcoin.head()"
   ]
  },
  {
   "cell_type": "markdown",
   "metadata": {},
   "source": [
    "## Normalização dos dados\n",
    "\n",
    "Para normalizar os dados, utilizei a técnica de Min-Max Scaling, que transforma os valores das colunas para um intervalo entre 0 e 1. Isso é útil para algoritmos de machine learning que são sensíveis à escala dos dados.\n"
   ]
  },
  {
   "cell_type": "code",
   "execution_count": 36,
   "metadata": {},
   "outputs": [
    {
     "data": {
      "text/plain": [
       "<Axes: title={'center': 'Close Price of Bitcoin in the last 5 years'}, xlabel='Date'>"
      ]
     },
     "execution_count": 36,
     "metadata": {},
     "output_type": "execute_result"
    },
    {
     "data": {
      "image/png": "[encoded data removed]",
      "text/plain": [
       "<Figure size 1400x700 with 1 Axes>"
      ]
     },
     "metadata": {},
     "output_type": "display_data"
    }
   ],
   "source": [
    "df_bitcoin[\"Close\"].plot(figsize=(14, 7), title=\"Close Price of Bitcoin in the last 5 years\", color=\"red\")"
   ]
  },
  {
   "cell_type": "markdown",
   "metadata": {},
   "source": [
    "## Escolha do Modelo\n",
    "\n",
    "Apesar de ser interessante o uso de variáveis do dia anterior, como máxima, mínima, variação percentual e amplitude, a necessidade de ter previsões de mais de um dia levou ao uso de um modelo LSTM, contendo apenas a feature close. Isso se deve, pois seria necessário fazer uma aproximação de todas essas features visto que estariam no futuro."
   ]
  },
  {
   "cell_type": "code",
   "execution_count": 37,
   "metadata": {},
   "outputs": [],
   "source": [
    "from sklearn.preprocessing import MinMaxScaler\n",
    "\n",
    "close_prices = df_bitcoin['Close'].values.reshape(-1, 1)\n",
    "scaler = MinMaxScaler(feature_range=(0, 1))\n",
    "close_prices_scaled = scaler.fit_transform(close_prices)"
   ]
  },
  {
   "cell_type": "code",
   "execution_count": 38,
   "metadata": {},
   "outputs": [],
   "source": [
    "def create_lstm_data(data, time_steps=1):\n",
    "    x, y = [], []\n",
    "    for i in range(len(data) - time_steps):\n",
    "        x.append(data[i:(i + time_steps), 0])\n",
    "        y.append(data[i + time_steps, 0])\n",
    "    return np.array(x), np.array(y)"
   ]
  },
  {
   "cell_type": "code",
   "execution_count": 59,
   "metadata": {},
   "outputs": [],
   "source": [
    "time_steps = 30\n",
    "x, y = create_lstm_data(close_prices_scaled, time_steps)\n",
    "x = np.reshape(x, (x.shape[0], x.shape[1], 1))"
   ]
  },
  {
   "cell_type": "code",
   "execution_count": 60,
   "metadata": {},
   "outputs": [
    {
     "name": "stderr",
     "output_type": "stream",
     "text": [
      "/home/fvasconcellos/Desktop/Inteli/mod7/CryptoForecast/src/model/venv/lib/python3.12/site-packages/keras/src/layers/rnn/rnn.py:204: UserWarning: Do not pass an `input_shape`/`input_dim` argument to a layer. When using Sequential models, prefer using an `Input(shape)` object as the first layer in the model instead.\n",
      "  super().__init__(**kwargs)\n"
     ]
    }
   ],
   "source": [
    "from sklearn.preprocessing import MinMaxScaler\n",
    "from keras.models import Sequential\n",
    "from keras.layers import LSTM, Dense\n",
    "\n",
    "model = Sequential()\n",
    "model.add(LSTM(units=50, return_sequences=True, input_shape=(x.shape[1], 1)))\n",
    "model.add(LSTM(units=50))\n",
    "model.add(Dense(units=1))\n",
    "model.compile(optimizer='adam', loss='mean_squared_error')"
   ]
  },
  {
   "cell_type": "code",
   "execution_count": 63,
   "metadata": {},
   "outputs": [
    {
     "name": "stdout",
     "output_type": "stream",
     "text": [
      "Epoch 1/50\n",
      "\u001b[1m57/57\u001b[0m \u001b[32m━━━━━━━━━━━━━━━━━━━━\u001b[0m\u001b[37m\u001b[0m \u001b[1m1s\u001b[0m 19ms/step - loss: 0.0011\n",
      "Epoch 2/50\n",
      "\u001b[1m57/57\u001b[0m \u001b[32m━━━━━━━━━━━━━━━━━━━━\u001b[0m\u001b[37m\u001b[0m \u001b[1m1s\u001b[0m 20ms/step - loss: 0.0010\n",
      "Epoch 3/50\n",
      "\u001b[1m57/57\u001b[0m \u001b[32m━━━━━━━━━━━━━━━━━━━━\u001b[0m\u001b[37m\u001b[0m \u001b[1m1s\u001b[0m 20ms/step - loss: 0.0010\n",
      "Epoch 4/50\n",
      "\u001b[1m57/57\u001b[0m \u001b[32m━━━━━━━━━━━━━━━━━━━━\u001b[0m\u001b[37m\u001b[0m \u001b[1m1s\u001b[0m 17ms/step - loss: 7.7917e-04\n",
      "Epoch 5/50\n",
      "\u001b[1m57/57\u001b[0m \u001b[32m━━━━━━━━━━━━━━━━━━━━\u001b[0m\u001b[37m\u001b[0m \u001b[1m1s\u001b[0m 19ms/step - loss: 9.2648e-04\n",
      "Epoch 6/50\n",
      "\u001b[1m57/57\u001b[0m \u001b[32m━━━━━━━━━━━━━━━━━━━━\u001b[0m\u001b[37m\u001b[0m \u001b[1m1s\u001b[0m 18ms/step - loss: 9.0226e-04\n",
      "Epoch 7/50\n",
      "\u001b[1m57/57\u001b[0m \u001b[32m━━━━━━━━━━━━━━━━━━━━\u001b[0m\u001b[37m\u001b[0m \u001b[1m1s\u001b[0m 17ms/step - loss: 7.4856e-04\n",
      "Epoch 8/50\n",
      "\u001b[1m57/57\u001b[0m \u001b[32m━━━━━━━━━━━━━━━━━━━━\u001b[0m\u001b[37m\u001b[0m \u001b[1m1s\u001b[0m 18ms/step - loss: 7.2201e-04\n",
      "Epoch 9/50\n",
      "\u001b[1m57/57\u001b[0m \u001b[32m━━━━━━━━━━━━━━━━━━━━\u001b[0m\u001b[37m\u001b[0m \u001b[1m1s\u001b[0m 20ms/step - loss: 7.8318e-04\n",
      "Epoch 10/50\n",
      "\u001b[1m57/57\u001b[0m \u001b[32m━━━━━━━━━━━━━━━━━━━━\u001b[0m\u001b[37m\u001b[0m \u001b[1m1s\u001b[0m 18ms/step - loss: 6.5745e-04\n",
      "Epoch 11/50\n",
      "\u001b[1m57/57\u001b[0m \u001b[32m━━━━━━━━━━━━━━━━━━━━\u001b[0m\u001b[37m\u001b[0m \u001b[1m1s\u001b[0m 18ms/step - loss: 5.8013e-04\n",
      "Epoch 12/50\n",
      "\u001b[1m57/57\u001b[0m \u001b[32m━━━━━━━━━━━━━━━━━━━━\u001b[0m\u001b[37m\u001b[0m \u001b[1m1s\u001b[0m 17ms/step - loss: 6.1750e-04\n",
      "Epoch 13/50\n",
      "\u001b[1m57/57\u001b[0m \u001b[32m━━━━━━━━━━━━━━━━━━━━\u001b[0m\u001b[37m\u001b[0m \u001b[1m1s\u001b[0m 17ms/step - loss: 5.7022e-04\n",
      "Epoch 14/50\n",
      "\u001b[1m57/57\u001b[0m \u001b[32m━━━━━━━━━━━━━━━━━━━━\u001b[0m\u001b[37m\u001b[0m \u001b[1m1s\u001b[0m 20ms/step - loss: 6.0950e-04\n",
      "Epoch 15/50\n",
      "\u001b[1m57/57\u001b[0m \u001b[32m━━━━━━━━━━━━━━━━━━━━\u001b[0m\u001b[37m\u001b[0m \u001b[1m1s\u001b[0m 17ms/step - loss: 5.1746e-04\n",
      "Epoch 16/50\n",
      "\u001b[1m57/57\u001b[0m \u001b[32m━━━━━━━━━━━━━━━━━━━━\u001b[0m\u001b[37m\u001b[0m \u001b[1m1s\u001b[0m 16ms/step - loss: 6.1888e-04\n",
      "Epoch 17/50\n",
      "\u001b[1m57/57\u001b[0m \u001b[32m━━━━━━━━━━━━━━━━━━━━\u001b[0m\u001b[37m\u001b[0m \u001b[1m1s\u001b[0m 16ms/step - loss: 5.3025e-04\n",
      "Epoch 18/50\n",
      "\u001b[1m57/57\u001b[0m \u001b[32m━━━━━━━━━━━━━━━━━━━━\u001b[0m\u001b[37m\u001b[0m \u001b[1m1s\u001b[0m 16ms/step - loss: 5.1925e-04\n",
      "Epoch 19/50\n",
      "\u001b[1m57/57\u001b[0m \u001b[32m━━━━━━━━━━━━━━━━━━━━\u001b[0m\u001b[37m\u001b[0m \u001b[1m1s\u001b[0m 16ms/step - loss: 4.7153e-04\n",
      "Epoch 20/50\n",
      "\u001b[1m57/57\u001b[0m \u001b[32m━━━━━━━━━━━━━━━━━━━━\u001b[0m\u001b[37m\u001b[0m \u001b[1m1s\u001b[0m 16ms/step - loss: 4.5508e-04\n",
      "Epoch 21/50\n",
      "\u001b[1m57/57\u001b[0m \u001b[32m━━━━━━━━━━━━━━━━━━━━\u001b[0m\u001b[37m\u001b[0m \u001b[1m1s\u001b[0m 16ms/step - loss: 4.0228e-04\n",
      "Epoch 22/50\n",
      "\u001b[1m57/57\u001b[0m \u001b[32m━━━━━━━━━━━━━━━━━━━━\u001b[0m\u001b[37m\u001b[0m \u001b[1m1s\u001b[0m 19ms/step - loss: 4.6503e-04\n",
      "Epoch 23/50\n",
      "\u001b[1m57/57\u001b[0m \u001b[32m━━━━━━━━━━━━━━━━━━━━\u001b[0m\u001b[37m\u001b[0m \u001b[1m1s\u001b[0m 20ms/step - loss: 5.3807e-04\n",
      "Epoch 24/50\n",
      "\u001b[1m57/57\u001b[0m \u001b[32m━━━━━━━━━━━━━━━━━━━━\u001b[0m\u001b[37m\u001b[0m \u001b[1m1s\u001b[0m 16ms/step - loss: 4.5054e-04\n",
      "Epoch 25/50\n",
      "\u001b[1m57/57\u001b[0m \u001b[32m━━━━━━━━━━━━━━━━━━━━\u001b[0m\u001b[37m\u001b[0m \u001b[1m1s\u001b[0m 19ms/step - loss: 4.2497e-04\n",
      "Epoch 26/50\n",
      "\u001b[1m57/57\u001b[0m \u001b[32m━━━━━━━━━━━━━━━━━━━━\u001b[0m\u001b[37m\u001b[0m \u001b[1m1s\u001b[0m 17ms/step - loss: 4.5343e-04\n",
      "Epoch 27/50\n",
      "\u001b[1m57/57\u001b[0m \u001b[32m━━━━━━━━━━━━━━━━━━━━\u001b[0m\u001b[37m\u001b[0m \u001b[1m1s\u001b[0m 17ms/step - loss: 4.1927e-04\n",
      "Epoch 28/50\n",
      "\u001b[1m57/57\u001b[0m \u001b[32m━━━━━━━━━━━━━━━━━━━━\u001b[0m\u001b[37m\u001b[0m \u001b[1m1s\u001b[0m 17ms/step - loss: 4.2724e-04\n",
      "Epoch 29/50\n",
      "\u001b[1m57/57\u001b[0m \u001b[32m━━━━━━━━━━━━━━━━━━━━\u001b[0m\u001b[37m\u001b[0m \u001b[1m1s\u001b[0m 17ms/step - loss: 3.8880e-04\n",
      "Epoch 30/50\n",
      "\u001b[1m57/57\u001b[0m \u001b[32m━━━━━━━━━━━━━━━━━━━━\u001b[0m\u001b[37m\u001b[0m \u001b[1m1s\u001b[0m 19ms/step - loss: 4.5902e-04\n",
      "Epoch 31/50\n",
      "\u001b[1m57/57\u001b[0m \u001b[32m━━━━━━━━━━━━━━━━━━━━\u001b[0m\u001b[37m\u001b[0m \u001b[1m1s\u001b[0m 18ms/step - loss: 3.9952e-04\n",
      "Epoch 32/50\n",
      "\u001b[1m57/57\u001b[0m \u001b[32m━━━━━━━━━━━━━━━━━━━━\u001b[0m\u001b[37m\u001b[0m \u001b[1m1s\u001b[0m 19ms/step - loss: 3.9573e-04\n",
      "Epoch 33/50\n",
      "\u001b[1m57/57\u001b[0m \u001b[32m━━━━━━━━━━━━━━━━━━━━\u001b[0m\u001b[37m\u001b[0m \u001b[1m1s\u001b[0m 20ms/step - loss: 4.5617e-04\n",
      "Epoch 34/50\n",
      "\u001b[1m57/57\u001b[0m \u001b[32m━━━━━━━━━━━━━━━━━━━━\u001b[0m\u001b[37m\u001b[0m \u001b[1m1s\u001b[0m 18ms/step - loss: 3.4649e-04\n",
      "Epoch 35/50\n",
      "\u001b[1m57/57\u001b[0m \u001b[32m━━━━━━━━━━━━━━━━━━━━\u001b[0m\u001b[37m\u001b[0m \u001b[1m1s\u001b[0m 18ms/step - loss: 4.2923e-04\n",
      "Epoch 36/50\n",
      "\u001b[1m57/57\u001b[0m \u001b[32m━━━━━━━━━━━━━━━━━━━━\u001b[0m\u001b[37m\u001b[0m \u001b[1m1s\u001b[0m 20ms/step - loss: 3.8796e-04\n",
      "Epoch 37/50\n",
      "\u001b[1m57/57\u001b[0m \u001b[32m━━━━━━━━━━━━━━━━━━━━\u001b[0m\u001b[37m\u001b[0m \u001b[1m1s\u001b[0m 19ms/step - loss: 3.7061e-04\n",
      "Epoch 38/50\n",
      "\u001b[1m57/57\u001b[0m \u001b[32m━━━━━━━━━━━━━━━━━━━━\u001b[0m\u001b[37m\u001b[0m \u001b[1m1s\u001b[0m 21ms/step - loss: 3.9318e-04\n",
      "Epoch 39/50\n",
      "\u001b[1m57/57\u001b[0m \u001b[32m━━━━━━━━━━━━━━━━━━━━\u001b[0m\u001b[37m\u001b[0m \u001b[1m1s\u001b[0m 20ms/step - loss: 6.4299e-04\n",
      "Epoch 40/50\n",
      "\u001b[1m57/57\u001b[0m \u001b[32m━━━━━━━━━━━━━━━━━━━━\u001b[0m\u001b[37m\u001b[0m \u001b[1m1s\u001b[0m 19ms/step - loss: 3.4122e-04\n",
      "Epoch 41/50\n",
      "\u001b[1m57/57\u001b[0m \u001b[32m━━━━━━━━━━━━━━━━━━━━\u001b[0m\u001b[37m\u001b[0m \u001b[1m1s\u001b[0m 19ms/step - loss: 3.3496e-04\n",
      "Epoch 42/50\n",
      "\u001b[1m57/57\u001b[0m \u001b[32m━━━━━━━━━━━━━━━━━━━━\u001b[0m\u001b[37m\u001b[0m \u001b[1m1s\u001b[0m 18ms/step - loss: 4.6682e-04\n",
      "Epoch 43/50\n",
      "\u001b[1m57/57\u001b[0m \u001b[32m━━━━━━━━━━━━━━━━━━━━\u001b[0m\u001b[37m\u001b[0m \u001b[1m1s\u001b[0m 22ms/step - loss: 3.7544e-04\n",
      "Epoch 44/50\n",
      "\u001b[1m57/57\u001b[0m \u001b[32m━━━━━━━━━━━━━━━━━━━━\u001b[0m\u001b[37m\u001b[0m \u001b[1m1s\u001b[0m 22ms/step - loss: 3.6084e-04\n",
      "Epoch 45/50\n",
      "\u001b[1m57/57\u001b[0m \u001b[32m━━━━━━━━━━━━━━━━━━━━\u001b[0m\u001b[37m\u001b[0m \u001b[1m1s\u001b[0m 18ms/step - loss: 4.5404e-04\n",
      "Epoch 46/50\n",
      "\u001b[1m57/57\u001b[0m \u001b[32m━━━━━━━━━━━━━━━━━━━━\u001b[0m\u001b[37m\u001b[0m \u001b[1m1s\u001b[0m 18ms/step - loss: 4.2256e-04\n",
      "Epoch 47/50\n",
      "\u001b[1m57/57\u001b[0m \u001b[32m━━━━━━━━━━━━━━━━━━━━\u001b[0m\u001b[37m\u001b[0m \u001b[1m1s\u001b[0m 18ms/step - loss: 3.7961e-04\n",
      "Epoch 48/50\n",
      "\u001b[1m57/57\u001b[0m \u001b[32m━━━━━━━━━━━━━━━━━━━━\u001b[0m\u001b[37m\u001b[0m \u001b[1m1s\u001b[0m 17ms/step - loss: 3.6089e-04\n",
      "Epoch 49/50\n",
      "\u001b[1m57/57\u001b[0m \u001b[32m━━━━━━━━━━━━━━━━━━━━\u001b[0m\u001b[37m\u001b[0m \u001b[1m1s\u001b[0m 16ms/step - loss: 3.8033e-04\n",
      "Epoch 50/50\n",
      "\u001b[1m57/57\u001b[0m \u001b[32m━━━━━━━━━━━━━━━━━━━━\u001b[0m\u001b[37m\u001b[0m \u001b[1m1s\u001b[0m 16ms/step - loss: 4.6014e-04\n"
     ]
    },
    {
     "data": {
      "text/plain": [
       "<keras.src.callbacks.history.History at 0x76a0779a0200>"
      ]
     },
     "execution_count": 63,
     "metadata": {},
     "output_type": "execute_result"
    }
   ],
   "source": [
    "model.fit(x, y, epochs=50, batch_size=32)"
   ]
  },
  {
   "cell_type": "code",
   "execution_count": 46,
   "metadata": {},
   "outputs": [
    {
     "name": "stdout",
     "output_type": "stream",
     "text": [
      "\u001b[1m1/1\u001b[0m \u001b[32m━━━━━━━━━━━━━━━━━━━━\u001b[0m\u001b[37m\u001b[0m \u001b[1m0s\u001b[0m 24ms/step\n"
     ]
    }
   ],
   "source": [
    "import datetime as dt\n",
    "future_dates = pd.date_range(start=dt.datetime.today() - dt.timedelta(days=2), periods=30)\n",
    "last_prices = close_prices[-time_steps:]\n",
    "last_prices_scaled = scaler.transform(last_prices.reshape(-1, 1))\n",
    "x_pred = np.array([last_prices_scaled[-time_steps:, 0]])\n",
    "x_pred = np.reshape(x_pred, (x_pred.shape[0], x_pred.shape[1], 1))\n",
    "predicted_prices_scaled = model.predict(x_pred)\n",
    "predicted_prices = scaler.inverse_transform(predicted_prices_scaled)"
   ]
  },
  {
   "cell_type": "code",
   "execution_count": 64,
   "metadata": {},
   "outputs": [
    {
     "name": "stdout",
     "output_type": "stream",
     "text": [
      "\u001b[1m1/1\u001b[0m \u001b[32m━━━━━━━━━━━━━━━━━━━━\u001b[0m\u001b[37m\u001b[0m \u001b[1m0s\u001b[0m 22ms/step\n",
      "\u001b[1m1/1\u001b[0m \u001b[32m━━━━━━━━━━━━━━━━━━━━\u001b[0m\u001b[37m\u001b[0m \u001b[1m0s\u001b[0m 20ms/step\n",
      "\u001b[1m1/1\u001b[0m \u001b[32m━━━━━━━━━━━━━━━━━━━━\u001b[0m\u001b[37m\u001b[0m \u001b[1m0s\u001b[0m 20ms/step\n",
      "\u001b[1m1/1\u001b[0m \u001b[32m━━━━━━━━━━━━━━━━━━━━\u001b[0m\u001b[37m\u001b[0m \u001b[1m0s\u001b[0m 19ms/step\n"
     ]
    },
    {
     "name": "stderr",
     "output_type": "stream",
     "text": [
      "/tmp/ipykernel_305337/437999296.py:33: DeprecationWarning: Conversion of an array with ndim > 0 to a scalar is deprecated, and will error in future. Ensure you extract a single element from your array before performing this operation. (Deprecated NumPy 1.25.)\n",
      "  next_input_scaled[0] = predicted_price_scaled[0]  # Replace only the predicted value\n",
      "/tmp/ipykernel_305337/437999296.py:33: DeprecationWarning: Conversion of an array with ndim > 0 to a scalar is deprecated, and will error in future. Ensure you extract a single element from your array before performing this operation. (Deprecated NumPy 1.25.)\n",
      "  next_input_scaled[0] = predicted_price_scaled[0]  # Replace only the predicted value\n",
      "/tmp/ipykernel_305337/437999296.py:33: DeprecationWarning: Conversion of an array with ndim > 0 to a scalar is deprecated, and will error in future. Ensure you extract a single element from your array before performing this operation. (Deprecated NumPy 1.25.)\n",
      "  next_input_scaled[0] = predicted_price_scaled[0]  # Replace only the predicted value\n",
      "/tmp/ipykernel_305337/437999296.py:33: DeprecationWarning: Conversion of an array with ndim > 0 to a scalar is deprecated, and will error in future. Ensure you extract a single element from your array before performing this operation. (Deprecated NumPy 1.25.)\n",
      "  next_input_scaled[0] = predicted_price_scaled[0]  # Replace only the predicted value\n"
     ]
    },
    {
     "name": "stdout",
     "output_type": "stream",
     "text": [
      "\u001b[1m1/1\u001b[0m \u001b[32m━━━━━━━━━━━━━━━━━━━━\u001b[0m\u001b[37m\u001b[0m \u001b[1m0s\u001b[0m 20ms/step\n",
      "\u001b[1m1/1\u001b[0m \u001b[32m━━━━━━━━━━━━━━━━━━━━\u001b[0m\u001b[37m\u001b[0m \u001b[1m0s\u001b[0m 17ms/step\n",
      "\u001b[1m1/1\u001b[0m \u001b[32m━━━━━━━━━━━━━━━━━━━━\u001b[0m\u001b[37m\u001b[0m \u001b[1m0s\u001b[0m 18ms/step\n",
      "\u001b[1m1/1\u001b[0m \u001b[32m━━━━━━━━━━━━━━━━━━━━\u001b[0m\u001b[37m\u001b[0m \u001b[1m0s\u001b[0m 19ms/step\n"
     ]
    },
    {
     "name": "stderr",
     "output_type": "stream",
     "text": [
      "/tmp/ipykernel_305337/437999296.py:33: DeprecationWarning: Conversion of an array with ndim > 0 to a scalar is deprecated, and will error in future. Ensure you extract a single element from your array before performing this operation. (Deprecated NumPy 1.25.)\n",
      "  next_input_scaled[0] = predicted_price_scaled[0]  # Replace only the predicted value\n",
      "/tmp/ipykernel_305337/437999296.py:33: DeprecationWarning: Conversion of an array with ndim > 0 to a scalar is deprecated, and will error in future. Ensure you extract a single element from your array before performing this operation. (Deprecated NumPy 1.25.)\n",
      "  next_input_scaled[0] = predicted_price_scaled[0]  # Replace only the predicted value\n",
      "/tmp/ipykernel_305337/437999296.py:33: DeprecationWarning: Conversion of an array with ndim > 0 to a scalar is deprecated, and will error in future. Ensure you extract a single element from your array before performing this operation. (Deprecated NumPy 1.25.)\n",
      "  next_input_scaled[0] = predicted_price_scaled[0]  # Replace only the predicted value\n",
      "/tmp/ipykernel_305337/437999296.py:33: DeprecationWarning: Conversion of an array with ndim > 0 to a scalar is deprecated, and will error in future. Ensure you extract a single element from your array before performing this operation. (Deprecated NumPy 1.25.)\n",
      "  next_input_scaled[0] = predicted_price_scaled[0]  # Replace only the predicted value\n"
     ]
    },
    {
     "name": "stdout",
     "output_type": "stream",
     "text": [
      "\u001b[1m1/1\u001b[0m \u001b[32m━━━━━━━━━━━━━━━━━━━━\u001b[0m\u001b[37m\u001b[0m \u001b[1m0s\u001b[0m 20ms/step\n",
      "\u001b[1m1/1\u001b[0m \u001b[32m━━━━━━━━━━━━━━━━━━━━\u001b[0m\u001b[37m\u001b[0m \u001b[1m0s\u001b[0m 21ms/step\n",
      "\u001b[1m1/1\u001b[0m \u001b[32m━━━━━━━━━━━━━━━━━━━━\u001b[0m\u001b[37m\u001b[0m \u001b[1m0s\u001b[0m 20ms/step\n",
      "\u001b[1m1/1\u001b[0m \u001b[32m━━━━━━━━━━━━━━━━━━━━\u001b[0m\u001b[37m\u001b[0m \u001b[1m0s\u001b[0m 20ms/step\n"
     ]
    },
    {
     "name": "stderr",
     "output_type": "stream",
     "text": [
      "/tmp/ipykernel_305337/437999296.py:33: DeprecationWarning: Conversion of an array with ndim > 0 to a scalar is deprecated, and will error in future. Ensure you extract a single element from your array before performing this operation. (Deprecated NumPy 1.25.)\n",
      "  next_input_scaled[0] = predicted_price_scaled[0]  # Replace only the predicted value\n",
      "/tmp/ipykernel_305337/437999296.py:33: DeprecationWarning: Conversion of an array with ndim > 0 to a scalar is deprecated, and will error in future. Ensure you extract a single element from your array before performing this operation. (Deprecated NumPy 1.25.)\n",
      "  next_input_scaled[0] = predicted_price_scaled[0]  # Replace only the predicted value\n",
      "/tmp/ipykernel_305337/437999296.py:33: DeprecationWarning: Conversion of an array with ndim > 0 to a scalar is deprecated, and will error in future. Ensure you extract a single element from your array before performing this operation. (Deprecated NumPy 1.25.)\n",
      "  next_input_scaled[0] = predicted_price_scaled[0]  # Replace only the predicted value\n",
      "/tmp/ipykernel_305337/437999296.py:33: DeprecationWarning: Conversion of an array with ndim > 0 to a scalar is deprecated, and will error in future. Ensure you extract a single element from your array before performing this operation. (Deprecated NumPy 1.25.)\n",
      "  next_input_scaled[0] = predicted_price_scaled[0]  # Replace only the predicted value\n"
     ]
    },
    {
     "name": "stdout",
     "output_type": "stream",
     "text": [
      "\u001b[1m1/1\u001b[0m \u001b[32m━━━━━━━━━━━━━━━━━━━━\u001b[0m\u001b[37m\u001b[0m \u001b[1m0s\u001b[0m 20ms/step\n",
      "\u001b[1m1/1\u001b[0m \u001b[32m━━━━━━━━━━━━━━━━━━━━\u001b[0m\u001b[37m\u001b[0m \u001b[1m0s\u001b[0m 20ms/step\n",
      "\u001b[1m1/1\u001b[0m \u001b[32m━━━━━━━━━━━━━━━━━━━━\u001b[0m\u001b[37m\u001b[0m \u001b[1m0s\u001b[0m 19ms/step\n",
      "\u001b[1m1/1\u001b[0m \u001b[32m━━━━━━━━━━━━━━━━━━━━\u001b[0m\u001b[37m\u001b[0m \u001b[1m0s\u001b[0m 19ms/step\n"
     ]
    },
    {
     "name": "stderr",
     "output_type": "stream",
     "text": [
      "/tmp/ipykernel_305337/437999296.py:33: DeprecationWarning: Conversion of an array with ndim > 0 to a scalar is deprecated, and will error in future. Ensure you extract a single element from your array before performing this operation. (Deprecated NumPy 1.25.)\n",
      "  next_input_scaled[0] = predicted_price_scaled[0]  # Replace only the predicted value\n",
      "/tmp/ipykernel_305337/437999296.py:33: DeprecationWarning: Conversion of an array with ndim > 0 to a scalar is deprecated, and will error in future. Ensure you extract a single element from your array before performing this operation. (Deprecated NumPy 1.25.)\n",
      "  next_input_scaled[0] = predicted_price_scaled[0]  # Replace only the predicted value\n",
      "/tmp/ipykernel_305337/437999296.py:33: DeprecationWarning: Conversion of an array with ndim > 0 to a scalar is deprecated, and will error in future. Ensure you extract a single element from your array before performing this operation. (Deprecated NumPy 1.25.)\n",
      "  next_input_scaled[0] = predicted_price_scaled[0]  # Replace only the predicted value\n",
      "/tmp/ipykernel_305337/437999296.py:33: DeprecationWarning: Conversion of an array with ndim > 0 to a scalar is deprecated, and will error in future. Ensure you extract a single element from your array before performing this operation. (Deprecated NumPy 1.25.)\n",
      "  next_input_scaled[0] = predicted_price_scaled[0]  # Replace only the predicted value\n"
     ]
    },
    {
     "name": "stdout",
     "output_type": "stream",
     "text": [
      "\u001b[1m1/1\u001b[0m \u001b[32m━━━━━━━━━━━━━━━━━━━━\u001b[0m\u001b[37m\u001b[0m \u001b[1m0s\u001b[0m 20ms/step\n",
      "\u001b[1m1/1\u001b[0m \u001b[32m━━━━━━━━━━━━━━━━━━━━\u001b[0m\u001b[37m\u001b[0m \u001b[1m0s\u001b[0m 17ms/step\n",
      "\u001b[1m1/1\u001b[0m \u001b[32m━━━━━━━━━━━━━━━━━━━━\u001b[0m\u001b[37m\u001b[0m \u001b[1m0s\u001b[0m 19ms/step\n",
      "\u001b[1m1/1\u001b[0m \u001b[32m━━━━━━━━━━━━━━━━━━━━\u001b[0m\u001b[37m\u001b[0m \u001b[1m0s\u001b[0m 19ms/step\n"
     ]
    },
    {
     "name": "stderr",
     "output_type": "stream",
     "text": [
      "/tmp/ipykernel_305337/437999296.py:33: DeprecationWarning: Conversion of an array with ndim > 0 to a scalar is deprecated, and will error in future. Ensure you extract a single element from your array before performing this operation. (Deprecated NumPy 1.25.)\n",
      "  next_input_scaled[0] = predicted_price_scaled[0]  # Replace only the predicted value\n",
      "/tmp/ipykernel_305337/437999296.py:33: DeprecationWarning: Conversion of an array with ndim > 0 to a scalar is deprecated, and will error in future. Ensure you extract a single element from your array before performing this operation. (Deprecated NumPy 1.25.)\n",
      "  next_input_scaled[0] = predicted_price_scaled[0]  # Replace only the predicted value\n",
      "/tmp/ipykernel_305337/437999296.py:33: DeprecationWarning: Conversion of an array with ndim > 0 to a scalar is deprecated, and will error in future. Ensure you extract a single element from your array before performing this operation. (Deprecated NumPy 1.25.)\n",
      "  next_input_scaled[0] = predicted_price_scaled[0]  # Replace only the predicted value\n",
      "/tmp/ipykernel_305337/437999296.py:33: DeprecationWarning: Conversion of an array with ndim > 0 to a scalar is deprecated, and will error in future. Ensure you extract a single element from your array before performing this operation. (Deprecated NumPy 1.25.)\n",
      "  next_input_scaled[0] = predicted_price_scaled[0]  # Replace only the predicted value\n"
     ]
    },
    {
     "name": "stdout",
     "output_type": "stream",
     "text": [
      "\u001b[1m1/1\u001b[0m \u001b[32m━━━━━━━━━━━━━━━━━━━━\u001b[0m\u001b[37m\u001b[0m \u001b[1m0s\u001b[0m 19ms/step\n",
      "\u001b[1m1/1\u001b[0m \u001b[32m━━━━━━━━━━━━━━━━━━━━\u001b[0m\u001b[37m\u001b[0m \u001b[1m0s\u001b[0m 19ms/step\n",
      "\u001b[1m1/1\u001b[0m \u001b[32m━━━━━━━━━━━━━━━━━━━━\u001b[0m\u001b[37m\u001b[0m \u001b[1m0s\u001b[0m 19ms/step\n",
      "\u001b[1m1/1\u001b[0m \u001b[32m━━━━━━━━━━━━━━━━━━━━\u001b[0m\u001b[37m\u001b[0m \u001b[1m0s\u001b[0m 18ms/step\n"
     ]
    },
    {
     "name": "stderr",
     "output_type": "stream",
     "text": [
      "/tmp/ipykernel_305337/437999296.py:33: DeprecationWarning: Conversion of an array with ndim > 0 to a scalar is deprecated, and will error in future. Ensure you extract a single element from your array before performing this operation. (Deprecated NumPy 1.25.)\n",
      "  next_input_scaled[0] = predicted_price_scaled[0]  # Replace only the predicted value\n",
      "/tmp/ipykernel_305337/437999296.py:33: DeprecationWarning: Conversion of an array with ndim > 0 to a scalar is deprecated, and will error in future. Ensure you extract a single element from your array before performing this operation. (Deprecated NumPy 1.25.)\n",
      "  next_input_scaled[0] = predicted_price_scaled[0]  # Replace only the predicted value\n",
      "/tmp/ipykernel_305337/437999296.py:33: DeprecationWarning: Conversion of an array with ndim > 0 to a scalar is deprecated, and will error in future. Ensure you extract a single element from your array before performing this operation. (Deprecated NumPy 1.25.)\n",
      "  next_input_scaled[0] = predicted_price_scaled[0]  # Replace only the predicted value\n",
      "/tmp/ipykernel_305337/437999296.py:33: DeprecationWarning: Conversion of an array with ndim > 0 to a scalar is deprecated, and will error in future. Ensure you extract a single element from your array before performing this operation. (Deprecated NumPy 1.25.)\n",
      "  next_input_scaled[0] = predicted_price_scaled[0]  # Replace only the predicted value\n"
     ]
    },
    {
     "name": "stdout",
     "output_type": "stream",
     "text": [
      "\u001b[1m1/1\u001b[0m \u001b[32m━━━━━━━━━━━━━━━━━━━━\u001b[0m\u001b[37m\u001b[0m \u001b[1m0s\u001b[0m 19ms/step\n",
      "\u001b[1m1/1\u001b[0m \u001b[32m━━━━━━━━━━━━━━━━━━━━\u001b[0m\u001b[37m\u001b[0m \u001b[1m0s\u001b[0m 18ms/step\n",
      "\u001b[1m1/1\u001b[0m \u001b[32m━━━━━━━━━━━━━━━━━━━━\u001b[0m\u001b[37m\u001b[0m \u001b[1m0s\u001b[0m 19ms/step\n",
      "\u001b[1m1/1\u001b[0m \u001b[32m━━━━━━━━━━━━━━━━━━━━\u001b[0m\u001b[37m\u001b[0m \u001b[1m0s\u001b[0m 19ms/step\n",
      "\u001b[1m1/1\u001b[0m \u001b[32m━━━━━━━━━━━━━━━━━━━━\u001b[0m\u001b[37m\u001b[0m \u001b[1m0s\u001b[0m 18ms/step\n"
     ]
    },
    {
     "name": "stderr",
     "output_type": "stream",
     "text": [
      "/tmp/ipykernel_305337/437999296.py:33: DeprecationWarning: Conversion of an array with ndim > 0 to a scalar is deprecated, and will error in future. Ensure you extract a single element from your array before performing this operation. (Deprecated NumPy 1.25.)\n",
      "  next_input_scaled[0] = predicted_price_scaled[0]  # Replace only the predicted value\n",
      "/tmp/ipykernel_305337/437999296.py:33: DeprecationWarning: Conversion of an array with ndim > 0 to a scalar is deprecated, and will error in future. Ensure you extract a single element from your array before performing this operation. (Deprecated NumPy 1.25.)\n",
      "  next_input_scaled[0] = predicted_price_scaled[0]  # Replace only the predicted value\n",
      "/tmp/ipykernel_305337/437999296.py:33: DeprecationWarning: Conversion of an array with ndim > 0 to a scalar is deprecated, and will error in future. Ensure you extract a single element from your array before performing this operation. (Deprecated NumPy 1.25.)\n",
      "  next_input_scaled[0] = predicted_price_scaled[0]  # Replace only the predicted value\n",
      "/tmp/ipykernel_305337/437999296.py:33: DeprecationWarning: Conversion of an array with ndim > 0 to a scalar is deprecated, and will error in future. Ensure you extract a single element from your array before performing this operation. (Deprecated NumPy 1.25.)\n",
      "  next_input_scaled[0] = predicted_price_scaled[0]  # Replace only the predicted value\n"
     ]
    },
    {
     "name": "stdout",
     "output_type": "stream",
     "text": [
      "\u001b[1m1/1\u001b[0m \u001b[32m━━━━━━━━━━━━━━━━━━━━\u001b[0m\u001b[37m\u001b[0m \u001b[1m0s\u001b[0m 18ms/step\n",
      "                         Date  Predicted Price\n",
      "0  2024-08-30 20:16:48.932009     65674.867188\n",
      "1  2024-08-31 20:16:48.932009     65630.296875\n",
      "2  2024-09-01 20:16:48.932009     65605.523438\n",
      "3  2024-09-02 20:16:48.932009     65596.179688\n",
      "4  2024-09-03 20:16:48.932009     65600.015625\n",
      "5  2024-09-04 20:16:48.932009     65612.906250\n",
      "6  2024-09-05 20:16:48.932009     65631.132812\n",
      "7  2024-09-06 20:16:48.932009     65651.890625\n",
      "8  2024-09-07 20:16:48.932009     65673.406250\n",
      "9  2024-09-08 20:16:48.932009     65694.671875\n",
      "10 2024-09-09 20:16:48.932009     65715.304688\n",
      "11 2024-09-10 20:16:48.932009     65735.304688\n",
      "12 2024-09-11 20:16:48.932009     65754.875000\n",
      "13 2024-09-12 20:16:48.932009     65774.171875\n",
      "14 2024-09-13 20:16:48.932009     65793.296875\n",
      "15 2024-09-14 20:16:48.932009     65812.312500\n",
      "16 2024-09-15 20:16:48.932009     65831.320312\n",
      "17 2024-09-16 20:16:48.932009     65850.281250\n",
      "18 2024-09-17 20:16:48.932009     65869.078125\n",
      "19 2024-09-18 20:16:48.932009     65887.585938\n",
      "20 2024-09-19 20:16:48.932009     65905.718750\n",
      "21 2024-09-20 20:16:48.932009     65923.421875\n",
      "22 2024-09-21 20:16:48.932009     65940.648438\n",
      "23 2024-09-22 20:16:48.932009     65957.390625\n",
      "24 2024-09-23 20:16:48.932009     65973.617188\n",
      "25 2024-09-24 20:16:48.932009     65989.296875\n",
      "26 2024-09-25 20:16:48.932009     66004.484375\n",
      "27 2024-09-26 20:16:48.932009     66019.125000\n",
      "28 2024-09-27 20:16:48.932009     66033.210938\n",
      "29 2024-09-28 20:16:48.932009     66046.789062\n"
     ]
    },
    {
     "name": "stderr",
     "output_type": "stream",
     "text": [
      "/tmp/ipykernel_305337/437999296.py:33: DeprecationWarning: Conversion of an array with ndim > 0 to a scalar is deprecated, and will error in future. Ensure you extract a single element from your array before performing this operation. (Deprecated NumPy 1.25.)\n",
      "  next_input_scaled[0] = predicted_price_scaled[0]  # Replace only the predicted value\n",
      "/tmp/ipykernel_305337/437999296.py:33: DeprecationWarning: Conversion of an array with ndim > 0 to a scalar is deprecated, and will error in future. Ensure you extract a single element from your array before performing this operation. (Deprecated NumPy 1.25.)\n",
      "  next_input_scaled[0] = predicted_price_scaled[0]  # Replace only the predicted value\n"
     ]
    }
   ],
   "source": [
    "import datetime as dt\n",
    "import numpy as np\n",
    "import pandas as pd\n",
    "\n",
    "# Generate future dates\n",
    "future_dates = pd.date_range(start=dt.datetime.today() - dt.timedelta(days=30), periods=30)\n",
    "\n",
    "# Get last time_steps of actual prices\n",
    "last_prices = close_prices[-time_steps:]\n",
    "\n",
    "# Scale the last prices\n",
    "last_prices_scaled = scaler.transform(last_prices.reshape(-1, 1))\n",
    "\n",
    "# Initialize the array to store predicted prices\n",
    "predicted_prices = []\n",
    "\n",
    "# Make iterative predictions for each future date\n",
    "for i in range(len(future_dates)):\n",
    "    x_pred = np.array([last_prices_scaled[-time_steps:, 0]])  # Use the last time_steps data\n",
    "    x_pred = np.reshape(x_pred, (x_pred.shape[0], x_pred.shape[1], 1))  # Reshape to LSTM input\n",
    "    \n",
    "    # Predict the next price\n",
    "    predicted_price_scaled = model.predict(x_pred)\n",
    "    \n",
    "    # Inverse transform the scaled prediction back to the original scale\n",
    "    predicted_price = scaler.inverse_transform(predicted_price_scaled)\n",
    "    \n",
    "    # Store the predicted price\n",
    "    predicted_prices.append(predicted_price.flatten()[0])\n",
    "    \n",
    "    # Update the last_prices_scaled with the new predicted value\n",
    "    next_input_scaled = np.zeros_like(last_prices_scaled[-1])\n",
    "    next_input_scaled[0] = predicted_price_scaled[0]  # Replace only the predicted value\n",
    "    last_prices_scaled = np.vstack([last_prices_scaled, next_input_scaled])\n",
    "\n",
    "# Create the DataFrame with future dates and predicted prices\n",
    "future_data = pd.DataFrame({'Date': future_dates, 'Predicted Price': predicted_prices})\n",
    "print(future_data)\n"
   ]
  },
  {
   "cell_type": "code",
   "execution_count": 65,
   "metadata": {},
   "outputs": [
    {
     "data": {
      "image/png": "[encoded data removed]",
      "text/plain": [
       "<Figure size 1600x500 with 1 Axes>"
      ]
     },
     "metadata": {},
     "output_type": "display_data"
    }
   ],
   "source": [
    "plt.figure(figsize=(16, 5), dpi=100)\n",
    "plt.plot(df_bitcoin.index[-len(df_bitcoin[\"Close\"]):], df_bitcoin[\"Close\"], color='blue', label='Actual Prices')\n",
    "plt.plot(future_data[\"Date\"], predicted_prices, color='red', linestyle='dashed', label='Predicted Prices')\n",
    "\n",
    "plt.title('Bitcoin Price Prediction vs Actual')\n",
    "plt.xlabel('Date')\n",
    "plt.ylabel('Price')\n",
    "plt.legend()\n",
    "plt.show()\n"
   ]
  },
  {
   "cell_type": "markdown",
   "metadata": {},
   "source": [
    "## Conclusão \n",
    "\n",
    "Apesar de um desempenho não tão satisfatório para curtos"
   ]
  }
 ],
 "metadata": {
  "kernelspec": {
   "display_name": "venv",
   "language": "python",
   "name": "python3"
  },
  "language_info": {
   "codemirror_mode": {
    "name": "ipython",
    "version": 3
   },
   "file_extension": ".py",
   "mimetype": "text/x-python",
   "name": "python",
   "nbconvert_exporter": "python",
   "pygments_lexer": "ipython3",
   "version": "3.12.3"
  }
 },
 "nbformat": 4,
 "nbformat_minor": 2
}
