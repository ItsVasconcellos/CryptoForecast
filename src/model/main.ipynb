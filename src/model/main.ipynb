{
 "cells": [
  {
   "cell_type": "markdown",
   "metadata": {},
   "source": [
    "# Importação das Bibliotecas \n",
    "Realizando o processo de import para todas as bibliotecas necessárias para rodar o notebook "
   ]
  },
  {
   "cell_type": "code",
   "execution_count": 1,
   "metadata": {},
   "outputs": [],
   "source": [
    "import yfinance as yf\n",
    "import pandas as pd\n",
    "import matplotlib.pyplot as plt"
   ]
  },
  {
   "cell_type": "markdown",
   "metadata": {},
   "source": [
    "## Importando a database\n",
    "\n",
    "Aqui, eu importei a database utilizando da biblioteca YFinance, que fornece algumas informações sobre a operação do bitcoin. Além disso, eu comecei a ver a base de dados que estava lidando, compreendendo sua formatação e como os dados estavam organizados."
   ]
  },
  {
   "cell_type": "code",
   "execution_count": 2,
   "metadata": {},
   "outputs": [
    {
     "name": "stderr",
     "output_type": "stream",
     "text": [
      "[*********************100%***********************]  1 of 1 completed\n"
     ]
    },
    {
     "data": {
      "text/html": [
       "<div>\n",
       "<style scoped>\n",
       "    .dataframe tbody tr th:only-of-type {\n",
       "        vertical-align: middle;\n",
       "    }\n",
       "\n",
       "    .dataframe tbody tr th {\n",
       "        vertical-align: top;\n",
       "    }\n",
       "\n",
       "    .dataframe thead th {\n",
       "        text-align: right;\n",
       "    }\n",
       "</style>\n",
       "<table border=\"1\" class=\"dataframe\">\n",
       "  <thead>\n",
       "    <tr style=\"text-align: right;\">\n",
       "      <th></th>\n",
       "      <th>Open</th>\n",
       "      <th>High</th>\n",
       "      <th>Low</th>\n",
       "      <th>Close</th>\n",
       "      <th>Adj Close</th>\n",
       "      <th>Volume</th>\n",
       "    </tr>\n",
       "    <tr>\n",
       "      <th>Date</th>\n",
       "      <th></th>\n",
       "      <th></th>\n",
       "      <th></th>\n",
       "      <th></th>\n",
       "      <th></th>\n",
       "      <th></th>\n",
       "    </tr>\n",
       "  </thead>\n",
       "  <tbody>\n",
       "    <tr>\n",
       "      <th>2019-09-29</th>\n",
       "      <td>8246.037109</td>\n",
       "      <td>8261.707031</td>\n",
       "      <td>7990.497070</td>\n",
       "      <td>8104.185547</td>\n",
       "      <td>8104.185547</td>\n",
       "      <td>13034629109</td>\n",
       "    </tr>\n",
       "    <tr>\n",
       "      <th>2019-09-30</th>\n",
       "      <td>8104.226562</td>\n",
       "      <td>8314.231445</td>\n",
       "      <td>7830.758789</td>\n",
       "      <td>8293.868164</td>\n",
       "      <td>8293.868164</td>\n",
       "      <td>17115474183</td>\n",
       "    </tr>\n",
       "    <tr>\n",
       "      <th>2019-10-01</th>\n",
       "      <td>8299.720703</td>\n",
       "      <td>8497.692383</td>\n",
       "      <td>8232.679688</td>\n",
       "      <td>8343.276367</td>\n",
       "      <td>8343.276367</td>\n",
       "      <td>15305343413</td>\n",
       "    </tr>\n",
       "    <tr>\n",
       "      <th>2019-10-02</th>\n",
       "      <td>8344.212891</td>\n",
       "      <td>8393.041992</td>\n",
       "      <td>8227.695312</td>\n",
       "      <td>8393.041992</td>\n",
       "      <td>8393.041992</td>\n",
       "      <td>13125712443</td>\n",
       "    </tr>\n",
       "    <tr>\n",
       "      <th>2019-10-03</th>\n",
       "      <td>8390.774414</td>\n",
       "      <td>8414.227539</td>\n",
       "      <td>8146.437012</td>\n",
       "      <td>8259.992188</td>\n",
       "      <td>8259.992188</td>\n",
       "      <td>13668823409</td>\n",
       "    </tr>\n",
       "  </tbody>\n",
       "</table>\n",
       "</div>"
      ],
      "text/plain": [
       "                   Open         High          Low        Close    Adj Close  \\\n",
       "Date                                                                          \n",
       "2019-09-29  8246.037109  8261.707031  7990.497070  8104.185547  8104.185547   \n",
       "2019-09-30  8104.226562  8314.231445  7830.758789  8293.868164  8293.868164   \n",
       "2019-10-01  8299.720703  8497.692383  8232.679688  8343.276367  8343.276367   \n",
       "2019-10-02  8344.212891  8393.041992  8227.695312  8393.041992  8393.041992   \n",
       "2019-10-03  8390.774414  8414.227539  8146.437012  8259.992188  8259.992188   \n",
       "\n",
       "                 Volume  \n",
       "Date                     \n",
       "2019-09-29  13034629109  \n",
       "2019-09-30  17115474183  \n",
       "2019-10-01  15305343413  \n",
       "2019-10-02  13125712443  \n",
       "2019-10-03  13668823409  "
      ]
     },
     "execution_count": 2,
     "metadata": {},
     "output_type": "execute_result"
    }
   ],
   "source": [
    "# get historical market data\n",
    "df_bitcoin = yf.download(tickers=\"BTC-USD\", period=\"5y\", interval=\"1d\")\n",
    "\n",
    "df_bitcoin.head()"
   ]
  },
  {
   "cell_type": "code",
   "execution_count": null,
   "metadata": {},
   "outputs": [],
   "source": [
    "df_bitcoin.info()"
   ]
  },
  {
   "cell_type": "markdown",
   "metadata": {},
   "source": [
    "Aqui, verifiquei se havia algum dado nulo, para não criar novas features e deixar linhas vazias."
   ]
  },
  {
   "cell_type": "code",
   "execution_count": 3,
   "metadata": {},
   "outputs": [
    {
     "name": "stdout",
     "output_type": "stream",
     "text": [
      "Contagem de nulls por coluna: \n",
      "\n",
      "Open:0\n",
      "High:0\n",
      "Low:0\n",
      "Close:0\n",
      "Adj Close:0\n",
      "Volume:0\n"
     ]
    }
   ],
   "source": [
    "colunas = df_bitcoin.columns\n",
    "print(\"Contagem de nulls por coluna: \\n\")\n",
    "for coluna in colunas:\n",
    "    print(f'{coluna}:{df_bitcoin[coluna].isna().sum()}')"
   ]
  },
  {
   "cell_type": "markdown",
   "metadata": {},
   "source": [
    "## Feature Engineering\n",
    "\n",
    "Para conseguir criar um modelo mais eficiente, pensei em algumas features que poderiam ser úteis ao modelo. Assim, implementei features como a variação percentual e amplitude do dia."
   ]
  },
  {
   "cell_type": "code",
   "execution_count": 4,
   "metadata": {},
   "outputs": [
    {
     "data": {
      "text/html": [
       "<div>\n",
       "<style scoped>\n",
       "    .dataframe tbody tr th:only-of-type {\n",
       "        vertical-align: middle;\n",
       "    }\n",
       "\n",
       "    .dataframe tbody tr th {\n",
       "        vertical-align: top;\n",
       "    }\n",
       "\n",
       "    .dataframe thead th {\n",
       "        text-align: right;\n",
       "    }\n",
       "</style>\n",
       "<table border=\"1\" class=\"dataframe\">\n",
       "  <thead>\n",
       "    <tr style=\"text-align: right;\">\n",
       "      <th></th>\n",
       "      <th>Open</th>\n",
       "      <th>High</th>\n",
       "      <th>Low</th>\n",
       "      <th>Close</th>\n",
       "      <th>Adj Close</th>\n",
       "      <th>Volume</th>\n",
       "    </tr>\n",
       "    <tr>\n",
       "      <th>Date</th>\n",
       "      <th></th>\n",
       "      <th></th>\n",
       "      <th></th>\n",
       "      <th></th>\n",
       "      <th></th>\n",
       "      <th></th>\n",
       "    </tr>\n",
       "  </thead>\n",
       "  <tbody>\n",
       "    <tr>\n",
       "      <th>2019-09-28</th>\n",
       "      <td>8251.27</td>\n",
       "      <td>8285.62</td>\n",
       "      <td>8125.43</td>\n",
       "      <td>8245.92</td>\n",
       "      <td>8245.92</td>\n",
       "      <td>14141152736</td>\n",
       "    </tr>\n",
       "    <tr>\n",
       "      <th>2019-09-29</th>\n",
       "      <td>8246.04</td>\n",
       "      <td>8261.71</td>\n",
       "      <td>7990.50</td>\n",
       "      <td>8104.19</td>\n",
       "      <td>8104.19</td>\n",
       "      <td>13034629109</td>\n",
       "    </tr>\n",
       "    <tr>\n",
       "      <th>2019-09-30</th>\n",
       "      <td>8104.23</td>\n",
       "      <td>8314.23</td>\n",
       "      <td>7830.76</td>\n",
       "      <td>8293.87</td>\n",
       "      <td>8293.87</td>\n",
       "      <td>17115474183</td>\n",
       "    </tr>\n",
       "    <tr>\n",
       "      <th>2019-10-01</th>\n",
       "      <td>8299.72</td>\n",
       "      <td>8497.69</td>\n",
       "      <td>8232.68</td>\n",
       "      <td>8343.28</td>\n",
       "      <td>8343.28</td>\n",
       "      <td>15305343413</td>\n",
       "    </tr>\n",
       "    <tr>\n",
       "      <th>2019-10-02</th>\n",
       "      <td>8344.21</td>\n",
       "      <td>8393.04</td>\n",
       "      <td>8227.70</td>\n",
       "      <td>8393.04</td>\n",
       "      <td>8393.04</td>\n",
       "      <td>13125712443</td>\n",
       "    </tr>\n",
       "  </tbody>\n",
       "</table>\n",
       "</div>"
      ],
      "text/plain": [
       "               Open     High      Low    Close  Adj Close       Volume\n",
       "Date                                                                  \n",
       "2019-09-28  8251.27  8285.62  8125.43  8245.92    8245.92  14141152736\n",
       "2019-09-29  8246.04  8261.71  7990.50  8104.19    8104.19  13034629109\n",
       "2019-09-30  8104.23  8314.23  7830.76  8293.87    8293.87  17115474183\n",
       "2019-10-01  8299.72  8497.69  8232.68  8343.28    8343.28  15305343413\n",
       "2019-10-02  8344.21  8393.04  8227.70  8393.04    8393.04  13125712443"
      ]
     },
     "execution_count": 4,
     "metadata": {},
     "output_type": "execute_result"
    }
   ],
   "source": [
    "for coluna in colunas:\n",
    "    df_bitcoin[coluna] = df_bitcoin[coluna].apply(lambda x: round(x, 2))\n",
    "df_bitcoin.head()"
   ]
  },
  {
   "cell_type": "code",
   "execution_count": 6,
   "metadata": {},
   "outputs": [
    {
     "ename": "SyntaxError",
     "evalue": "unterminated string literal (detected at line 2) (3869429206.py, line 2)",
     "output_type": "error",
     "traceback": [
      "\u001b[0;36m  Cell \u001b[0;32mIn[6], line 2\u001b[0;36m\u001b[0m\n\u001b[0;31m    df_bitcoin.head()Amplitude\", Percentage_Variation\u001b[0m\n\u001b[0m                              ^\u001b[0m\n\u001b[0;31mSyntaxError\u001b[0m\u001b[0;31m:\u001b[0m unterminated string literal (detected at line 2)\n"
     ]
    }
   ],
   "source": [
    "df_bitcoin[\"Percentage_Variation\"] = 100*(df_bitcoin[\"Close\"] - df_bitcoin[\"Open\"])/df_bitcoin[\"Open\"] \n",
    "df_bitcoin.head()"
   ]
  },
  {
   "cell_type": "code",
   "execution_count": 6,
   "metadata": {},
   "outputs": [
    {
     "data": {
      "text/html": [
       "<div>\n",
       "<style scoped>\n",
       "    .dataframe tbody tr th:only-of-type {\n",
       "        vertical-align: middle;\n",
       "    }\n",
       "\n",
       "    .dataframe tbody tr th {\n",
       "        vertical-align: top;\n",
       "    }\n",
       "\n",
       "    .dataframe thead th {\n",
       "        text-align: right;\n",
       "    }\n",
       "</style>\n",
       "<table border=\"1\" class=\"dataframe\">\n",
       "  <thead>\n",
       "    <tr style=\"text-align: right;\">\n",
       "      <th></th>\n",
       "      <th>Open</th>\n",
       "      <th>High</th>\n",
       "      <th>Low</th>\n",
       "      <th>Close</th>\n",
       "      <th>Adj Close</th>\n",
       "      <th>Volume</th>\n",
       "      <th>Percentage_Variation</th>\n",
       "      <th>Amplitude</th>\n",
       "    </tr>\n",
       "    <tr>\n",
       "      <th>Date</th>\n",
       "      <th></th>\n",
       "      <th></th>\n",
       "      <th></th>\n",
       "      <th></th>\n",
       "      <th></th>\n",
       "      <th></th>\n",
       "      <th></th>\n",
       "      <th></th>\n",
       "    </tr>\n",
       "  </thead>\n",
       "  <tbody>\n",
       "    <tr>\n",
       "      <th>2019-09-28</th>\n",
       "      <td>8251.27</td>\n",
       "      <td>8285.62</td>\n",
       "      <td>8125.43</td>\n",
       "      <td>8245.92</td>\n",
       "      <td>8245.92</td>\n",
       "      <td>14141152736</td>\n",
       "      <td>-0.064839</td>\n",
       "      <td>160.19</td>\n",
       "    </tr>\n",
       "    <tr>\n",
       "      <th>2019-09-29</th>\n",
       "      <td>8246.04</td>\n",
       "      <td>8261.71</td>\n",
       "      <td>7990.50</td>\n",
       "      <td>8104.19</td>\n",
       "      <td>8104.19</td>\n",
       "      <td>13034629109</td>\n",
       "      <td>-1.720220</td>\n",
       "      <td>271.21</td>\n",
       "    </tr>\n",
       "    <tr>\n",
       "      <th>2019-09-30</th>\n",
       "      <td>8104.23</td>\n",
       "      <td>8314.23</td>\n",
       "      <td>7830.76</td>\n",
       "      <td>8293.87</td>\n",
       "      <td>8293.87</td>\n",
       "      <td>17115474183</td>\n",
       "      <td>2.340013</td>\n",
       "      <td>483.47</td>\n",
       "    </tr>\n",
       "    <tr>\n",
       "      <th>2019-10-01</th>\n",
       "      <td>8299.72</td>\n",
       "      <td>8497.69</td>\n",
       "      <td>8232.68</td>\n",
       "      <td>8343.28</td>\n",
       "      <td>8343.28</td>\n",
       "      <td>15305343413</td>\n",
       "      <td>0.524837</td>\n",
       "      <td>265.01</td>\n",
       "    </tr>\n",
       "    <tr>\n",
       "      <th>2019-10-02</th>\n",
       "      <td>8344.21</td>\n",
       "      <td>8393.04</td>\n",
       "      <td>8227.70</td>\n",
       "      <td>8393.04</td>\n",
       "      <td>8393.04</td>\n",
       "      <td>13125712443</td>\n",
       "      <td>0.585196</td>\n",
       "      <td>165.34</td>\n",
       "    </tr>\n",
       "  </tbody>\n",
       "</table>\n",
       "</div>"
      ],
      "text/plain": [
       "               Open     High      Low    Close  Adj Close       Volume  \\\n",
       "Date                                                                     \n",
       "2019-09-28  8251.27  8285.62  8125.43  8245.92    8245.92  14141152736   \n",
       "2019-09-29  8246.04  8261.71  7990.50  8104.19    8104.19  13034629109   \n",
       "2019-09-30  8104.23  8314.23  7830.76  8293.87    8293.87  17115474183   \n",
       "2019-10-01  8299.72  8497.69  8232.68  8343.28    8343.28  15305343413   \n",
       "2019-10-02  8344.21  8393.04  8227.70  8393.04    8393.04  13125712443   \n",
       "\n",
       "            Percentage_Variation  Amplitude  \n",
       "Date                                         \n",
       "2019-09-28             -0.064839     160.19  \n",
       "2019-09-29             -1.720220     271.21  \n",
       "2019-09-30              2.340013     483.47  \n",
       "2019-10-01              0.524837     265.01  \n",
       "2019-10-02              0.585196     165.34  "
      ]
     },
     "execution_count": 6,
     "metadata": {},
     "output_type": "execute_result"
    }
   ],
   "source": [
    "df_bitcoin[\"Amplitude\"] = df_bitcoin[\"High\"] - df_bitcoin[\"Low\"]\n",
    "df_bitcoin.head()"
   ]
  },
  {
   "cell_type": "code",
   "execution_count": 4,
   "metadata": {},
   "outputs": [
    {
     "data": {
      "image/png": "[encoded data removed]",
      "text/plain": [
       "<Figure size 1600x500 with 1 Axes>"
      ]
     },
     "metadata": {},
     "output_type": "display_data"
    }
   ],
   "source": [
    "def plot_df(df, x, y, title=\"\", xlabel='Date', ylabel='Value', dpi=100):\n",
    "    plt.figure(figsize=(16,5), dpi=dpi)\n",
    "    plt.plot(x, y, color='tab:red')\n",
    "    plt.gca().set(title=title, xlabel=xlabel, ylabel=ylabel)\n",
    "    plt.show()\n",
    "\n",
    "plot_df(df_bitcoin, x=df_bitcoin.index, y=df_bitcoin[\"Close\"], title='Close Price of Bitcoin in the last 5 years')    \n"
   ]
  },
  {
   "cell_type": "markdown",
   "metadata": {},
   "source": [
    "## Normalização dos dados\n",
    "\n",
    "Para normalizar os dados, utilizei a técnica de Min-Max Scaling, que transforma os valores das colunas para um intervalo entre 0 e 1. Isso é útil para algoritmos de machine learning que são sensíveis à escala dos dados.\n"
   ]
  },
  {
   "cell_type": "code",
   "execution_count": 7,
   "metadata": {},
   "outputs": [
    {
     "ename": "ModuleNotFoundError",
     "evalue": "No module named 'sklearn'",
     "output_type": "error",
     "traceback": [
      "\u001b[0;31m---------------------------------------------------------------------------\u001b[0m",
      "\u001b[0;31mModuleNotFoundError\u001b[0m                       Traceback (most recent call last)",
      "Cell \u001b[0;32mIn[7], line 1\u001b[0m\n\u001b[0;32m----> 1\u001b[0m \u001b[38;5;28;01mfrom\u001b[39;00m \u001b[38;5;21;01msklearn\u001b[39;00m\u001b[38;5;21;01m.\u001b[39;00m\u001b[38;5;21;01mpreprocessing\u001b[39;00m \u001b[38;5;28;01mimport\u001b[39;00m MinMaxScaler\n\u001b[1;32m      3\u001b[0m \u001b[38;5;66;03m# Inicializando o MinMaxScaler\u001b[39;00m\n\u001b[1;32m      4\u001b[0m scaler \u001b[38;5;241m=\u001b[39m MinMaxScaler()\n",
      "\u001b[0;31mModuleNotFoundError\u001b[0m: No module named 'sklearn'"
     ]
    }
   ],
   "source": [
    "from sklearn.preprocessing import MinMaxScaler\n",
    "\n",
    "# Inicializando o MinMaxScaler\n",
    "scaler = MinMaxScaler()\n",
    "\n",
    "# Normalizando as colunas numéricas\n",
    "df_bitcoin[['Open', 'High', 'Low', 'Adj Close', 'Volume', \"Amplitude\", \"Percentage_Variation\"]] = scaler.fit_transform(df_bitcoin[['Open', 'High', 'Low', 'Adj Close', 'Volume', \"Amplitude\", \"Percentage_Variation\"]])\n",
    "\n",
    "df_bitcoin.head()\n"
   ]
  }
 ],
 "metadata": {
  "kernelspec": {
   "display_name": "venv",
   "language": "python",
   "name": "python3"
  },
  "language_info": {
   "codemirror_mode": {
    "name": "ipython",
    "version": 3
   },
   "file_extension": ".py",
   "mimetype": "text/x-python",
   "name": "python",
   "nbconvert_exporter": "python",
   "pygments_lexer": "ipython3",
   "version": "3.12.3"
  }
 },
 "nbformat": 4,
 "nbformat_minor": 2
}
