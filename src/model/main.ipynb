{
 "cells": [
  {
   "cell_type": "markdown",
   "metadata": {},
   "source": [
    "# Importação das Bibliotecas \n",
    "Realizando o processo de import para todas as bibliotecas necessárias para rodar o notebook "
   ]
  },
  {
   "cell_type": "code",
   "execution_count": 6,
   "metadata": {},
   "outputs": [],
   "source": [
    "import yfinance as yf\n",
    "import pandas as pd"
   ]
  },
  {
   "cell_type": "code",
   "execution_count": 8,
   "metadata": {},
   "outputs": [
    {
     "name": "stderr",
     "output_type": "stream",
     "text": [
      "[*********************100%***********************]  1 of 1 completed\n"
     ]
    },
    {
     "data": {
      "text/html": [
       "<div>\n",
       "<style scoped>\n",
       "    .dataframe tbody tr th:only-of-type {\n",
       "        vertical-align: middle;\n",
       "    }\n",
       "\n",
       "    .dataframe tbody tr th {\n",
       "        vertical-align: top;\n",
       "    }\n",
       "\n",
       "    .dataframe thead th {\n",
       "        text-align: right;\n",
       "    }\n",
       "</style>\n",
       "<table border=\"1\" class=\"dataframe\">\n",
       "  <thead>\n",
       "    <tr style=\"text-align: right;\">\n",
       "      <th></th>\n",
       "      <th>Open</th>\n",
       "      <th>High</th>\n",
       "      <th>Low</th>\n",
       "      <th>Close</th>\n",
       "      <th>Adj Close</th>\n",
       "      <th>Volume</th>\n",
       "    </tr>\n",
       "    <tr>\n",
       "      <th>Date</th>\n",
       "      <th></th>\n",
       "      <th></th>\n",
       "      <th></th>\n",
       "      <th></th>\n",
       "      <th></th>\n",
       "      <th></th>\n",
       "    </tr>\n",
       "  </thead>\n",
       "  <tbody>\n",
       "    <tr>\n",
       "      <th>2019-09-20</th>\n",
       "      <td>10266.318359</td>\n",
       "      <td>10285.872070</td>\n",
       "      <td>10132.186523</td>\n",
       "      <td>10181.641602</td>\n",
       "      <td>10181.641602</td>\n",
       "      <td>14734189639</td>\n",
       "    </tr>\n",
       "    <tr>\n",
       "      <th>2019-09-21</th>\n",
       "      <td>10183.648438</td>\n",
       "      <td>10188.097656</td>\n",
       "      <td>10000.708008</td>\n",
       "      <td>10019.716797</td>\n",
       "      <td>10019.716797</td>\n",
       "      <td>13425266806</td>\n",
       "    </tr>\n",
       "    <tr>\n",
       "      <th>2019-09-22</th>\n",
       "      <td>10024.115234</td>\n",
       "      <td>10074.444336</td>\n",
       "      <td>9922.533203</td>\n",
       "      <td>10070.392578</td>\n",
       "      <td>10070.392578</td>\n",
       "      <td>13199651698</td>\n",
       "    </tr>\n",
       "    <tr>\n",
       "      <th>2019-09-23</th>\n",
       "      <td>10067.962891</td>\n",
       "      <td>10074.238281</td>\n",
       "      <td>9727.143555</td>\n",
       "      <td>9729.324219</td>\n",
       "      <td>9729.324219</td>\n",
       "      <td>15144925408</td>\n",
       "    </tr>\n",
       "    <tr>\n",
       "      <th>2019-09-24</th>\n",
       "      <td>9729.321289</td>\n",
       "      <td>9804.317383</td>\n",
       "      <td>8370.801758</td>\n",
       "      <td>8620.566406</td>\n",
       "      <td>8620.566406</td>\n",
       "      <td>25002886689</td>\n",
       "    </tr>\n",
       "  </tbody>\n",
       "</table>\n",
       "</div>"
      ],
      "text/plain": [
       "                    Open          High           Low         Close  \\\n",
       "Date                                                                 \n",
       "2019-09-20  10266.318359  10285.872070  10132.186523  10181.641602   \n",
       "2019-09-21  10183.648438  10188.097656  10000.708008  10019.716797   \n",
       "2019-09-22  10024.115234  10074.444336   9922.533203  10070.392578   \n",
       "2019-09-23  10067.962891  10074.238281   9727.143555   9729.324219   \n",
       "2019-09-24   9729.321289   9804.317383   8370.801758   8620.566406   \n",
       "\n",
       "               Adj Close       Volume  \n",
       "Date                                   \n",
       "2019-09-20  10181.641602  14734189639  \n",
       "2019-09-21  10019.716797  13425266806  \n",
       "2019-09-22  10070.392578  13199651698  \n",
       "2019-09-23   9729.324219  15144925408  \n",
       "2019-09-24   8620.566406  25002886689  "
      ]
     },
     "execution_count": 8,
     "metadata": {},
     "output_type": "execute_result"
    }
   ],
   "source": [
    "# get historical market data\n",
    "df_bitcoin = yf.download(tickers=\"BTC-USD\", period=\"5y\", interval=\"1d\")\n",
    "\n",
    "df_bitcoin.head()"
   ]
  },
  {
   "cell_type": "code",
   "execution_count": 9,
   "metadata": {},
   "outputs": [
    {
     "name": "stdout",
     "output_type": "stream",
     "text": [
      "Contagem de nulls por coluna: \n",
      "\n",
      "Open:0\n",
      "High:0\n",
      "Low:0\n",
      "Close:0\n",
      "Adj Close:0\n",
      "Volume:0\n"
     ]
    }
   ],
   "source": [
    "colunas = df_bitcoin.columns\n",
    "print(\"Contagem de nulls por coluna: \\n\")\n",
    "for coluna in colunas:\n",
    "    print(f'{coluna}:{df_bitcoin[coluna].isna().sum()}')"
   ]
  },
  {
   "cell_type": "code",
   "execution_count": 11,
   "metadata": {},
   "outputs": [
    {
     "data": {
      "text/html": [
       "<div>\n",
       "<style scoped>\n",
       "    .dataframe tbody tr th:only-of-type {\n",
       "        vertical-align: middle;\n",
       "    }\n",
       "\n",
       "    .dataframe tbody tr th {\n",
       "        vertical-align: top;\n",
       "    }\n",
       "\n",
       "    .dataframe thead th {\n",
       "        text-align: right;\n",
       "    }\n",
       "</style>\n",
       "<table border=\"1\" class=\"dataframe\">\n",
       "  <thead>\n",
       "    <tr style=\"text-align: right;\">\n",
       "      <th></th>\n",
       "      <th>Open</th>\n",
       "      <th>High</th>\n",
       "      <th>Low</th>\n",
       "      <th>Close</th>\n",
       "      <th>Adj Close</th>\n",
       "      <th>Volume</th>\n",
       "    </tr>\n",
       "    <tr>\n",
       "      <th>Date</th>\n",
       "      <th></th>\n",
       "      <th></th>\n",
       "      <th></th>\n",
       "      <th></th>\n",
       "      <th></th>\n",
       "      <th></th>\n",
       "    </tr>\n",
       "  </thead>\n",
       "  <tbody>\n",
       "    <tr>\n",
       "      <th>2019-09-20</th>\n",
       "      <td>10266.32</td>\n",
       "      <td>10285.87</td>\n",
       "      <td>10132.19</td>\n",
       "      <td>10181.64</td>\n",
       "      <td>10181.64</td>\n",
       "      <td>14734189639</td>\n",
       "    </tr>\n",
       "    <tr>\n",
       "      <th>2019-09-21</th>\n",
       "      <td>10183.65</td>\n",
       "      <td>10188.10</td>\n",
       "      <td>10000.71</td>\n",
       "      <td>10019.72</td>\n",
       "      <td>10019.72</td>\n",
       "      <td>13425266806</td>\n",
       "    </tr>\n",
       "    <tr>\n",
       "      <th>2019-09-22</th>\n",
       "      <td>10024.12</td>\n",
       "      <td>10074.44</td>\n",
       "      <td>9922.53</td>\n",
       "      <td>10070.39</td>\n",
       "      <td>10070.39</td>\n",
       "      <td>13199651698</td>\n",
       "    </tr>\n",
       "    <tr>\n",
       "      <th>2019-09-23</th>\n",
       "      <td>10067.96</td>\n",
       "      <td>10074.24</td>\n",
       "      <td>9727.14</td>\n",
       "      <td>9729.32</td>\n",
       "      <td>9729.32</td>\n",
       "      <td>15144925408</td>\n",
       "    </tr>\n",
       "    <tr>\n",
       "      <th>2019-09-24</th>\n",
       "      <td>9729.32</td>\n",
       "      <td>9804.32</td>\n",
       "      <td>8370.80</td>\n",
       "      <td>8620.57</td>\n",
       "      <td>8620.57</td>\n",
       "      <td>25002886689</td>\n",
       "    </tr>\n",
       "  </tbody>\n",
       "</table>\n",
       "</div>"
      ],
      "text/plain": [
       "                Open      High       Low     Close  Adj Close       Volume\n",
       "Date                                                                      \n",
       "2019-09-20  10266.32  10285.87  10132.19  10181.64   10181.64  14734189639\n",
       "2019-09-21  10183.65  10188.10  10000.71  10019.72   10019.72  13425266806\n",
       "2019-09-22  10024.12  10074.44   9922.53  10070.39   10070.39  13199651698\n",
       "2019-09-23  10067.96  10074.24   9727.14   9729.32    9729.32  15144925408\n",
       "2019-09-24   9729.32   9804.32   8370.80   8620.57    8620.57  25002886689"
      ]
     },
     "execution_count": 11,
     "metadata": {},
     "output_type": "execute_result"
    }
   ],
   "source": [
    "for coluna in colunas:\n",
    "    df_bitcoin[coluna] = df_bitcoin[coluna].apply(lambda x: round(x, 2))\n",
    "df_bitcoin.head()"
   ]
  },
  {
   "cell_type": "code",
   "execution_count": null,
   "metadata": {},
   "outputs": [],
   "source": [
    "df_bitcoin[\"Variation\"] = df_bitcoin[\"Close\"].pct_change()"
   ]
  }
 ],
 "metadata": {
  "kernelspec": {
   "display_name": "venv",
   "language": "python",
   "name": "python3"
  },
  "language_info": {
   "codemirror_mode": {
    "name": "ipython",
    "version": 3
   },
   "file_extension": ".py",
   "mimetype": "text/x-python",
   "name": "python",
   "nbconvert_exporter": "python",
   "pygments_lexer": "ipython3",
   "version": "3.12.3"
  }
 },
 "nbformat": 4,
 "nbformat_minor": 2
}
